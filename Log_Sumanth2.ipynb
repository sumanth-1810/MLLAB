{
 "cells": [
  {
   "cell_type": "code",
   "execution_count": 9,
   "id": "c67999f3",
   "metadata": {},
   "outputs": [
    {
     "name": "stdout",
     "output_type": "stream",
     "text": [
      "Accuracy: 0.62\n"
     ]
    }
   ],
   "source": [
    "import numpy as np\n",
    "\n",
    "# Load your dataset and preprocess it\n",
    "# Replace 'your_dataset.csv' with the path to your dataset file\n",
    "data = np.genfromtxt('/home/exam/Downloads/Uni_Stu.csv', delimiter=',', skip_header=1)  # Skip the header row if present\n",
    "\n",
    "# Assuming the first two columns are \"TA\" and \"TB,\" and the third column is \"B\" (target)\n",
    "X = data[:, :2]  # Features\n",
    "y = data[:, 2]  # Target variable\n",
    "\n",
    "# Add a bias term (intercept) to the feature matrix\n",
    "X_bias = np.c_[np.ones(X.shape[0]), X]\n",
    "\n",
    "# Define the logistic function (sigmoid)\n",
    "def sigmoid(z):\n",
    "    return 1 / (1 + np.exp(-z))\n",
    "\n",
    "# Initialize model parameters (weights and bias)\n",
    "num_features = X_bias.shape[1]\n",
    "theta = np.zeros(num_features)\n",
    "\n",
    "# Hyperparameters\n",
    "learning_rate = 0.2\n",
    "num_iterations = 10000\n",
    "\n",
    "# Gradient Descent\n",
    "for _ in range(num_iterations):\n",
    "    # Calculate the predicted probabilities\n",
    "    z = np.dot(X_bias, theta)\n",
    "    h = sigmoid(z)\n",
    "\n",
    "    # Calculate the gradient\n",
    "    gradient = np.dot(X_bias.T, (h - y)) / len(y)\n",
    "\n",
    "    # Update the model parameters\n",
    "    theta -= learning_rate * gradient\n",
    "\n",
    "# Make predictions on your data\n",
    "predicted_probabilities = sigmoid(np.dot(X_bias, theta))\n",
    "predicted_labels = (predicted_probabilities >= 0.5).astype(int)\n",
    "\n",
    "# Calculate the accuracy\n",
    "accuracy = np.mean(predicted_labels == y)\n",
    "print(f\"Accuracy: {accuracy:.2f}\")\n"
   ]
  },
  {
   "cell_type": "code",
   "execution_count": null,
   "id": "ec1c9326",
   "metadata": {},
   "outputs": [],
   "source": []
  }
 ],
 "metadata": {
  "kernelspec": {
   "display_name": "Python 3 (ipykernel)",
   "language": "python",
   "name": "python3"
  },
  "language_info": {
   "codemirror_mode": {
    "name": "ipython",
    "version": 3
   },
   "file_extension": ".py",
   "mimetype": "text/x-python",
   "name": "python",
   "nbconvert_exporter": "python",
   "pygments_lexer": "ipython3",
   "version": "3.10.12"
  }
 },
 "nbformat": 4,
 "nbformat_minor": 5
}
